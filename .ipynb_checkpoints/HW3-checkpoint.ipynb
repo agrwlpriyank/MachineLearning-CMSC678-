{
 "cells": [
  {
   "cell_type": "code",
   "execution_count": null,
   "metadata": {
    "scrolled": true
   },
   "outputs": [],
   "source": [
    "import torch\n",
    "import torchvision\n",
    "import torchvision.transforms as transforms\n",
    "import matplotlib.pyplot as plt\n",
    "import numpy as np\n",
    "import torch.optim as optim\n",
    "import torch.nn as nn\n",
    "import collections\n",
    "\n",
    "########################################################################\n",
    "# Data Load\n",
    "\n",
    "def data_division(batch = 4, augment = False):\n",
    "    \n",
    "    transform = transforms.Compose(\n",
    "        [transforms.ToTensor(),\n",
    "         transforms.Normalize((0.5, 0.5, 0.5), (0.5, 0.5, 0.5))])\n",
    "\n",
    "    testset = torchvision.datasets.CIFAR10(root='./data', train=False,\n",
    "                                           download=False, transform=transform) # change download True when submit\n",
    "    testloader = torch.utils.data.DataLoader(testset, batch_size=batch,\n",
    "                                             shuffle=False, num_workers=2)\n",
    "    if augment:\n",
    "        transform = transforms.Compose(\n",
    "                    [transforms.RandomHorizontalFlip(),\n",
    "                     transforms.RandomCrop(size=[32,32], padding=4),\n",
    "                     transforms.ToTensor(),\n",
    "                     transforms.Normalize((0.5, 0.5, 0.5), (0.5, 0.5, 0.5))])\n",
    "\n",
    "    trainset = torchvision.datasets.CIFAR10(root='./data', train=True,\n",
    "                                            download=False, transform=transform) # change download True when submit\n",
    "    trainloader = torch.utils.data.DataLoader(trainset, batch_size=batch,\n",
    "                                              shuffle=True, num_workers=2)\n",
    "\n",
    "\n",
    "    classes = ('plane', 'car', 'bird', 'cat',\n",
    "               'deer', 'dog', 'frog', 'horse', 'ship', 'truck')\n",
    "    return(trainloader, testloader, classes)"
   ]
  },
  {
   "cell_type": "code",
   "execution_count": 2,
   "metadata": {
    "scrolled": true
   },
   "outputs": [],
   "source": [
    "########################################################################\n",
    "# Train and test the network for each epoch\n",
    "\n",
    "def train_test_network(trainloader, testloader, net, criterion, optimizer, epochs = 2, onehotencoding = False):\n",
    "    #Train\n",
    "    train_accuracy = collections.defaultdict(int)\n",
    "    loss_dic = collections.defaultdict(int)        \n",
    "    train_correct = 0\n",
    "    train_total = 0\n",
    "    \n",
    "    #Test\n",
    "    test_accuracy = collections.defaultdict(int)    \n",
    "    test_correct = 0\n",
    "    test_total = 0\n",
    "    \n",
    "    for epoch in range(epochs):  # loop over the dataset multiple times\n",
    "    ########################################################################\n",
    "    # Train the network\n",
    "        running_loss = 0.0\n",
    "        for i, data in enumerate(trainloader, 0):\n",
    "            # get the inputs\n",
    "            inputs, labels = data\n",
    "            if onehotencoding:\n",
    "                labels = onehot(labels.view(labels.shape[0],1),labels.shape[0],10)\n",
    "\n",
    "            # zero the parameter gradients\n",
    "            optimizer.zero_grad()\n",
    "\n",
    "            # forward + backward + optimize\n",
    "            outputs = net(inputs)\n",
    "            \n",
    "            _, predicted = torch.max(outputs.data, 1)\n",
    "            train_total += labels.size(0)\n",
    "            train_correct += (predicted == labels).sum().item()\n",
    "            accuracy = (100 * train_correct / train_total)\n",
    "            loss = criterion(outputs, labels)\n",
    "            loss.backward()\n",
    "            optimizer.step()\n",
    "\n",
    "            # print statistics\n",
    "            running_loss += loss.item() # loss is a tensor\n",
    "            if i % 2000 == 1999:    # print every 2000 mini-batches\n",
    "                #print(running_loss)\n",
    "                print('[%d, %5d] loss: %.3f' %\n",
    "                      (epoch + 1, i + 1, running_loss / 2000))\n",
    "                loss_dic[epoch + 1] = running_loss / 2000\n",
    "                running_loss = 0.0\n",
    "                \n",
    "        train_accuracy[epoch + 1] = accuracy\n",
    "        \n",
    "    ########################################################################\n",
    "    # Test the network\n",
    "        with torch.no_grad(): #no gradient descent\n",
    "            for data_test in testloader:\n",
    "                images, labels_test = data_test\n",
    "                outputs_test = net(images)\n",
    "                _, predicted_test = torch.max(outputs_test.data, 1)\n",
    "                test_total += labels_test.size(0)\n",
    "                test_correct += (predicted_test == labels_test).sum().item()\n",
    "\n",
    "            #print('Accuracy of the network on the 10000 test images: %d%%' % (100 * test_correct / test_total))\n",
    "            test_accuracy[epoch + 1] = (100 * test_correct / test_total)\n",
    "        \n",
    "\n",
    "    print('Finished Training')\n",
    "    return(train_accuracy, loss_dic, test_accuracy)"
   ]
  },
  {
   "cell_type": "code",
   "execution_count": 25,
   "metadata": {},
   "outputs": [],
   "source": [
    "########################################################################\n",
    "# Train and test the network for each epoch\n",
    "\n",
    "def train_test_networkMSE(trainloader, testloader, net, criterion, optimizer, epochs = 2, onehotencoding = False):\n",
    "    #Train\n",
    "    train_accuracy = collections.defaultdict(int)\n",
    "    loss_dic = collections.defaultdict(int)        \n",
    "    train_correct = 0\n",
    "    train_total = 0\n",
    "    \n",
    "    #Test\n",
    "    test_accuracy = collections.defaultdict(int)    \n",
    "    test_correct = 0\n",
    "    test_total = 0\n",
    "    \n",
    "    for epoch in range(epochs):  # loop over the dataset multiple times\n",
    "    ########################################################################\n",
    "    # Train the network\n",
    "        running_loss = 0.0\n",
    "        for i, data in enumerate(trainloader, 0):\n",
    "            # get the inputs\n",
    "            inputs, labels = data\n",
    "            if onehotencoding:\n",
    "                labels = onehot(labels.view(labels.shape[0],1),labels.shape[0],10)\n",
    "\n",
    "            # zero the parameter gradients\n",
    "            optimizer.zero_grad()\n",
    "\n",
    "            # forward + backward + optimize\n",
    "            outputs = net(inputs)\n",
    "            \n",
    "            _, predicted = torch.max(outputs.data, 1)\n",
    "            train_total += labels.size(0)\n",
    "            print(predicted)\n",
    "            print(labels)\n",
    "            train_correct += (predicted == labels).sum().item()\n",
    "            accuracy = (100 * train_correct / train_total)\n",
    "            loss = criterion(outputs, labels)\n",
    "            loss.backward()\n",
    "            optimizer.step()\n",
    "\n",
    "            # print statistics\n",
    "            running_loss += loss.item() # loss is a tensor\n",
    "            if i % 2000 == 1999:    # print every 2000 mini-batches\n",
    "                #print(running_loss)\n",
    "                print('[%d, %5d] loss: %.3f' %\n",
    "                      (epoch + 1, i + 1, running_loss / 2000))\n",
    "                loss_dic[epoch + 1] = running_loss / 2000\n",
    "                running_loss = 0.0\n",
    "                \n",
    "        train_accuracy[epoch + 1] = accuracy\n",
    "        \n",
    "    ########################################################################\n",
    "    # Test the network\n",
    "        with torch.no_grad(): #no gradient descent\n",
    "            for data_test in testloader:\n",
    "                images, labels_test = data_test\n",
    "                outputs_test = net(images)\n",
    "                _, predicted_test = torch.max(outputs_test.data, 1)\n",
    "                test_total += labels_test.size(0)\n",
    "                test_correct += (predicted_test == labels_test).sum().item()\n",
    "\n",
    "            #print('Accuracy of the network on the 10000 test images: %d%%' % (100 * test_correct / test_total))\n",
    "            test_accuracy[epoch + 1] = (100 * test_correct / test_total)\n",
    "            \n",
    "        #train_accuracy[epoch + 1] = net.accuracy(trainloader)\n",
    "        #test_accuracy[epoch + 1] = net.accuracy(testloader)\n",
    "\n",
    "    print('Finished Training')\n",
    "    return(train_accuracy, loss_dic, test_accuracy)"
   ]
  },
  {
   "cell_type": "code",
   "execution_count": 4,
   "metadata": {
    "scrolled": true
   },
   "outputs": [],
   "source": [
    "########################################################################\n",
    "#  Defining a Cross Entropy Loss function and SGD optimizer\n",
    "\n",
    "def CE_loss(net, lr = 0.001):\n",
    "    criterion = nn.CrossEntropyLoss()\n",
    "    optimizer = optim.SGD(net.parameters(), lr = lr, momentum=0.9)\n",
    "    return(criterion, optimizer)"
   ]
  },
  {
   "cell_type": "code",
   "execution_count": 5,
   "metadata": {
    "scrolled": true
   },
   "outputs": [],
   "source": [
    "########################################################################\n",
    "#  Defining a Mean Squared Error as Loss function and SGD optimizer\n",
    "\n",
    "def MSE_loss(net, lr = 0.001):\n",
    "    criterion = nn.MSELoss()\n",
    "    optimizer = optim.SGD(net.parameters(), lr = lr, momentum=0.9)\n",
    "    return(criterion, optimizer)"
   ]
  },
  {
   "cell_type": "code",
   "execution_count": 6,
   "metadata": {
    "scrolled": true
   },
   "outputs": [],
   "source": [
    "########################################################################\n",
    "#  Plotting code\n",
    "\n",
    "def plot(dictionary, title, x = \"\", y = \"\", _print = \"\", ):\n",
    "    print(_print)\n",
    "    plt.xlabel(x)\n",
    "    plt.ylabel(y)\n",
    "    plt.title(title)\n",
    "    plt.plot(list(dictionary.keys()),list(dictionary.values()),'-o')\n",
    "    plt.savefig(title + '.png')\n",
    "    plt.show()\n",
    "    plt.close()"
   ]
  },
  {
   "cell_type": "code",
   "execution_count": 32,
   "metadata": {
    "scrolled": true
   },
   "outputs": [],
   "source": [
    "########################################################################\n",
    "#  Change the code to have only a single fully connected layer. \n",
    "#  The model will have a single layer that connects the input to the output.\n",
    "\n",
    "def single_fully_connected_model():\n",
    "    trainloader, testloader, classes = data_division(batch = 4)\n",
    "    \n",
    "    import singleFC\n",
    "    net = singleFC.Net()\n",
    "    criterion, optimizer = CE_loss(net)\n",
    "    train_accuracy, loss_dic, test_accuracy = train_test_network(trainloader = trainloader, testloader = testloader, net=net, criterion=criterion, optimizer=optimizer, epochs=25)\n",
    "    #test_accuracy = test_network(testloader = testloader, net = net)\n",
    "    plot(dictionary = train_accuracy, title = \"Single_Fully_Connected_Training_Accuracy\", x = \"Epochs\", y = \"Accuracy\", _print=  \"2. Single Fully Connected Layer - training accuracy\")\n",
    "    plot(dictionary = loss_dic, title = \"Single_Fully_Connected_Loss\", x = \"Epochs\", y = \"Loss\", _print=  \"2. Single Fully Connected Layer - loss\")\n",
    "    plot(dictionary = test_accuracy, title = \"Single_Fully_Connected_Testing_Accuracy\", x = \"Epochs\", y = \"Accuracy\", _print=  \"2. Single Fully Connected Layer - testing accuray\")\n",
    "    print('Parameters of the network: %d' % sum(p.numel() for p in net.parameters() if p.requires_grad))"
   ]
  },
  {
   "cell_type": "code",
   "execution_count": 8,
   "metadata": {
    "scrolled": true
   },
   "outputs": [],
   "source": [
    "########################################################################\n",
    "#  Multiple fully connected layers\n",
    "\n",
    "def multiple_fully_connected_model():\n",
    "    trainloader, testloader, classes = data_division(batch = 4)\n",
    "    \n",
    "    import multipleFC\n",
    "    \n",
    "    ########################################################################\n",
    "    #  Multiple fully connected layers with ReLU\n",
    "    net = multipleFC.Net()\n",
    "    criterion, optimizer = CE_loss(net)\n",
    "    train_accuracy, loss_dic, test_accuracy = train_test_network(trainloader = trainloader, testloader = testloader, net=net, criterion=criterion, optimizer=optimizer, epochs=25)\n",
    "    plot(dictionary = train_accuracy, title = \"Multiple_Fully_Connected_ReLU_Training_Accuracy\", x = \"Epochs\", y = \"Accuracy\", _print=  \"3. Multiple Fully Connected Layer with RelU - training accuracy\")\n",
    "    plot(dictionary = loss_dic, title = \"Multiple_Fully_Connected_ReLU_Loss\", x = \"Epochs\", y = \"Loss\", _print=  \"3. Multiple Fully Connected Layer with RelU - loss\")\n",
    "    plot(dictionary = test_accuracy, title = \"Multiple_Fully_Connected_ReLU_Testing_Accuracy\", x = \"Epochs\", y = \"Accuracy\", _print=  \"3. Multiple Fully Connected Layer with RelU - testing accuray\")\n",
    "    print('Parameters of the network: %d' % sum(p.numel() for p in net.parameters() if p.requires_grad))\n",
    "    \n",
    "    ########################################################################\n",
    "    #  Multiple fully connected layers without ReLU\n",
    "    net = multipleFC.Net(relu = False)\n",
    "    criterion, optimizer = CE_loss(net)\n",
    "    train_accuracy, loss_dic, test_accuracy = train_test_network(trainloader = trainloader, testloader = testloader, net=net, criterion=criterion, optimizer=optimizer, epochs=25)\n",
    "    plot(dictionary = train_accuracy, title = \"Multiple_Fully_Connected_Training_Accuracy\", x = \"Epochs\", y = \"Accuracy\", _print=  \"3. Multiple Fully Connected Layer without ReLU - training accuracy\")\n",
    "    plot(dictionary = loss_dic, title = \"Multiple_Fully_Connected_Loss\", x = \"Epochs\", y = \"Loss\", _print=  \"3. Multiple Fully Connected Layer without ReLU - loss\")\n",
    "    plot(dictionary = test_accuracy, title = \"Multiple_Fully_Connected_Testing_Accuracy\", x = \"Epochs\", y = \"Accuracy\", _print=  \"3. Multiple Fully Connected Layer without ReLU - testing accuray\")\n",
    "    print('Parameters of the network: %d' % sum(p.numel() for p in net.parameters() if p.requires_grad))"
   ]
  },
  {
   "cell_type": "code",
   "execution_count": 9,
   "metadata": {
    "scrolled": true
   },
   "outputs": [],
   "source": [
    "########################################################################\n",
    "#  Example Tutorial - two convolutional layers along with maxpooling layers before the fully connected layers\n",
    "\n",
    "def basic_tutorial_model():\n",
    "    trainloader, testloader, classes = data_division(batch = 4)\n",
    "    \n",
    "    import examplenetwork\n",
    "    net = examplenetwork.Net()\n",
    "    criterion, optimizer = CE_loss(net)\n",
    "    train_accuracy, loss_dic, test_accuracy = train_test_network(trainloader = trainloader, testloader = testloader, net=net, criterion=criterion, optimizer=optimizer, epochs=25)\n",
    "    plot(dictionary = train_accuracy, title = \"Two_conv_with_three_dense_Training_Accuracy\", x = \"Epochs\", y = \"Accuracy\", _print=  \"4. Two conv with three dense layers - training accuracy\")\n",
    "    plot(dictionary = loss_dic, title = \"Two_conv_with_three_dense_Loss\", x = \"Epochs\", y = \"Loss\", _print=  \"4. Two conv with three dense layers - loss\")\n",
    "    plot(dictionary = test_accuracy, title = \"Two_conv_with_three_dense_Testing_Accuracy\", x = \"Epochs\", y = \"Accuracy\", _print=  \"4. Two conv with three dense layers - testing accuray\")\n",
    "    print('Parameters of the network: %d' % sum(p.numel() for p in net.parameters() if p.requires_grad))"
   ]
  },
  {
   "cell_type": "code",
   "execution_count": 10,
   "metadata": {
    "scrolled": true
   },
   "outputs": [],
   "source": [
    "########################################################################\n",
    "#  Example Tutorial with different batch sizes\n",
    "\n",
    "def basic_tutorial_model_batch_sizes():\n",
    "    import examplenetwork\n",
    "    net = examplenetwork.Net()\n",
    "    criterion, optimizer = CE_loss(net)\n",
    "    \n",
    "    ########################################################################\n",
    "    #  two convolutional layers along with maxpooling layers before the fully connected layers on the CIFAR10 data with batch size 1\n",
    "    trainloader, testloader, classes = data_division(batch = 1)\n",
    "\n",
    "    train_accuracy, loss_dic, test_accuracy = train_test_network(trainloader = trainloader, testloader = testloader, net=net, criterion=criterion, optimizer=optimizer, epochs=25)\n",
    "    plot(dictionary = train_accuracy, title = \"Two_conv_with_three_dense_batchsize1_Training_Accuracy\", x = \"Epochs\", y = \"Accuracy\", _print=  \"4. Two conv with three dense layers with 1 sample per batch - training accuracy\")\n",
    "    plot(dictionary = loss_dic, title = \"Two_conv_with_three_dense_batchsize1_Loss\", x = \"Epochs\", y = \"Loss\", _print=  \"4. Two conv with three dense layers with 1 sample per batch - loss\")\n",
    "    plot(dictionary = test_accuracy, title = \"Two_conv_with_three_dense_batchsize1_Testing_Accuracy\", x = \"Epochs\", y = \"Accuracy\", _print=  \"4. Two conv with three dense layers with 1 sample per batch - testing accuray\")\n",
    "    print('Parameters of the network: %d' % sum(p.numel() for p in net.parameters() if p.requires_grad))\n",
    "    \n",
    "    ########################################################################\n",
    "    #  two convolutional layers along with maxpooling layers before the fully connected layers on the CIFAR10 data with batch size 4\n",
    "    trainloader, testloader, classes = data_division(batch = 4)\n",
    "\n",
    "    train_accuracy, loss_dic, test_accuracy = train_test_network(trainloader = trainloader, testloader = testloader, net=net, criterion=criterion, optimizer=optimizer, epochs=25)\n",
    "    plot(dictionary = train_accuracy, title = \"Two_conv_with_three_dense_batchsize4_Training_Accuracy\", x = \"Epochs\", y = \"Accuracy\", _print=  \"4. Two conv with three dense layers with 4 sample per batch - training accuracy\")\n",
    "    plot(dictionary = loss_dic, title = \"Two_conv_with_three_dense_batchsize4_Loss\", x = \"Epochs\", y = \"Loss\", _print=  \"4. Two conv with three dense layers with 4 sample per batch - loss\")\n",
    "    plot(dictionary = test_accuracy, title = \"Two_conv_with_three_dense_batchsize4_Testing_Accuracy\", x = \"Epochs\", y = \"Accuracy\", _print=  \"4. Two conv with three dense layers with 4 sample per batch - testing accuray\")\n",
    "    print('Parameters of the network: %d' % sum(p.numel() for p in net.parameters() if p.requires_grad))\n",
    "    \n",
    "    ########################################################################\n",
    "    #  two convolutional layers along with maxpooling layers before the fully connected layers on the CIFAR10 data with batch size 1000\n",
    "    trainloader, testloader, classes = data_division(batch = 1000)\n",
    "\n",
    "    train_accuracy, loss_dic, test_accuracy = train_test_network(trainloader = trainloader, testloader = testloader, net=net, criterion=criterion, optimizer=optimizer, epochs=25)\n",
    "    plot(dictionary = train_accuracy, title = \"Two_conv_with_three_dense_batchsize1000_Training_Accuracy\", x = \"Epochs\", y = \"Accuracy\", _print=  \"4. Two conv with three dense layers with 1000 sample per batch - training accuracy\")\n",
    "    plot(dictionary = loss_dic, title = \"Two_conv_with_three_dense_batchsize1000_Loss\", x = \"Epochs\", y = \"Loss\", _print=  \"4. Two conv with three dense layers with 1000 sample per batch - loss\")\n",
    "    plot(dictionary = test_accuracy, title = \"Two_conv_with_three_dense_batchsize1000_Testing_Accuracy\", x = \"Epochs\", y = \"Accuracy\", _print=  \"4. Two conv with three dense layers with 1000 sample per batch - testing accuray\")\n",
    "    print('Parameters of the network: %d' % sum(p.numel() for p in net.parameters() if p.requires_grad))"
   ]
  },
  {
   "cell_type": "code",
   "execution_count": 11,
   "metadata": {
    "scrolled": true
   },
   "outputs": [],
   "source": [
    "########################################################################\n",
    "#  Example Tutorial with different learning rates\n",
    "\n",
    "def basic_tutorial_model_learning_rates():\n",
    "    trainloader, testloader, classes = data_division(batch = 4)\n",
    "    \n",
    "    import examplenetwork\n",
    "    net = examplenetwork.Net()\n",
    "    \n",
    "    ########################################################################\n",
    "    # two convolutional layers along with maxpooling layers before the fully connected layers on the CIFAR10 data with learning rate 10\n",
    "    criterion, optimizer = CE_loss(net, lr = 10)\n",
    "    train_accuracy, loss_dic, test_accuracy = train_test_network(trainloader = trainloader, testloader = testloader, net=net, criterion=criterion, optimizer=optimizer, epochs=25)\n",
    "    plot(dictionary = train_accuracy, title = \"Two_conv_with_three_dense_learningrate10_Training_Accuracy\", x = \"Epochs\", y = \"Accuracy\", _print=  \"4. Two conv with three dense layers with a learning rate of 10 - training accuracy\")\n",
    "    plot(dictionary = loss_dic, title = \"Two_conv_with_three_dense_learningrate10_Loss\", x = \"Epochs\", y = \"Loss\", _print=  \"4. Two conv with three dense layers with a learning rate of 10 - loss\")\n",
    "    plot(dictionary = test_accuracy, title = \"Two_conv_with_three_dense_learningrate10_Testing_Accuracy\", x = \"Epochs\", y = \"Accuracy\", _print=  \"4. Two conv with three dense layers with a learning rate of 10 - testing accuray\")\n",
    "    print('Parameters of the network: %d' % sum(p.numel() for p in net.parameters() if p.requires_grad))\n",
    "    \n",
    "    ########################################################################\n",
    "    # two convolutional layers along with maxpooling layers before the fully connected layers on the CIFAR10 data with learning rate 0.1\n",
    "    criterion, optimizer = CE_loss(net, lr = 0.1)\n",
    "    train_accuracy, loss_dic, test_accuracy = train_test_network(trainloader = trainloader, testloader = testloader, net=net, criterion=criterion, optimizer=optimizer, epochs=25)\n",
    "    plot(dictionary = train_accuracy, title = \"Two_conv_with_three_dense_learningratepoint1_Training_Accuracy\", x = \"Epochs\", y = \"Accuracy\", _print=  \"4. Two conv with three dense layers with a learning rate of 0.1 - training accuracy\")\n",
    "    plot(dictionary = loss_dic, title = \"Two_conv_with_three_dense_learningratepoint1_Loss\", x = \"Epochs\", y = \"Loss\", _print=  \"4. Two conv with three dense layers with a learning rate of 0.1 - loss\")\n",
    "    plot(dictionary = test_accuracy, title = \"Two_conv_with_three_dense_learningratepoint1_Testing_Accuracy\", x = \"Epochs\", y = \"Accuracy\", _print=  \"4. Two conv with three dense layers with a learning rate of 0.1 - testing accuray\")\n",
    "    print('Parameters of the network: %d' % sum(p.numel() for p in net.parameters() if p.requires_grad))\n",
    "    \n",
    "    ########################################################################\n",
    "    # two convolutional layers along with maxpooling layers before the fully connected layers on the CIFAR10 data with learning rate 0.01\n",
    "    criterion, optimizer = CE_loss(net, lr = 0.01)\n",
    "    train_accuracy, loss_dic, test_accuracy = train_test_network(trainloader = trainloader, testloader = testloader, net=net, criterion=criterion, optimizer=optimizer, epochs=25)\n",
    "    plot(dictionary = train_accuracy, title = \"Two_conv_with_three_dense_learningratepoint01_Training_Accuracy\", x = \"Epochs\", y = \"Accuracy\", _print=  \"4. Two conv with three dense layers with a learning rate of 0.01 - training accuracy\")\n",
    "    plot(dictionary = loss_dic, title = \"Two_conv_with_three_dense_learningratepoint01_Loss\", x = \"Epochs\", y = \"Loss\", _print=  \"4. Two conv with three dense layers with a learning rate of 0.01 - loss\")\n",
    "    plot(dictionary = test_accuracy, title = \"Two_conv_with_three_dense_learningratepoint01_Testing_Accuracy\", x = \"Epochs\", y = \"Accuracy\", _print=  \"4. Two conv with three dense layers with a learning rate of 0.01 - testing accuray\")\n",
    "    print('Parameters of the network: %d' % sum(p.numel() for p in net.parameters() if p.requires_grad))\n",
    "    \n",
    "    ########################################################################\n",
    "    # two convolutional layers along with maxpooling layers before the fully connected layers on the CIFAR10 data with learning rate 0.0001\n",
    "    criterion, optimizer = CE_loss(net, lr = 0.0001)\n",
    "    train_accuracy, loss_dic, test_accuracy = train_test_network(trainloader = trainloader, testloader = testloader, net=net, criterion=criterion, optimizer=optimizer, epochs=25)\n",
    "    plot(dictionary = train_accuracy, title = \"Two_conv_with_three_dense_learningratepoint0001_Training_Accuracy\", x = \"Epochs\", y = \"Accuracy\", _print=  \"4. Two conv with three dense layers with a learning rate of 0.0001 - training accuracy\")\n",
    "    plot(dictionary = loss_dic, title = \"Two_conv_with_three_dense_learningratepoint0001_Loss\", x = \"Epochs\", y = \"Loss\", _print=  \"4. Two conv with three dense layers with a learning rate of 0.0001 - loss\")\n",
    "    plot(dictionary = test_accuracy, title = \"Two_conv_with_three_dense_learningratepoint0001_Testing_Accuracy\", x = \"Epochs\", y = \"Accuracy\", _print=  \"4. Two conv with three dense layers with a learning rate of 0.0001 - testing accuray\")\n",
    "    print('Parameters of the network: %d' % sum(p.numel() for p in net.parameters() if p.requires_grad))"
   ]
  },
  {
   "cell_type": "code",
   "execution_count": 12,
   "metadata": {
    "scrolled": true
   },
   "outputs": [],
   "source": [
    "########################################################################\n",
    "#  Example Tutorial using augmented training data\n",
    "\n",
    "def basic_tutorial_model_augmented_data():\n",
    "    trainloader, testloader, classes = data_division(batch = 4, augment = True)\n",
    "    \n",
    "    import examplenetwork\n",
    "    net = examplenetwork.Net()\n",
    "    criterion, optimizer = CE_loss(net)\n",
    "    train_accuracy, loss_dic, test_accuracy = train_test_network(trainloader = trainloader, testloader = testloader, net=net, criterion=criterion, optimizer=optimizer, epochs=25)\n",
    "    plot(dictionary = train_accuracy, title = \"Two_conv_with_three_dense_AugmentedData_Training_Accuracy\", x = \"Epochs\", y = \"Accuracy\", _print=  \"4. Two conv with three dense layers with Augmented Data - training accuracy\")\n",
    "    plot(dictionary = loss_dic, title = \"Two_conv_with_three_dense_AugmentedData_Loss\", x = \"Epochs\", y = \"Loss\", _print=  \"4. Two conv with three dense layers with Augmented Data - loss\")\n",
    "    plot(dictionary = test_accuracy, title = \"Two_conv_with_three_dense_AugmentedData_Testing_Accuracy\", x = \"Epochs\", y = \"Accuracy\", _print=  \"4. Two conv with three dense layers with Augmented Data - testing accuray\")\n",
    "    print('Parameters of the network: %d' % sum(p.numel() for p in net.parameters() if p.requires_grad))"
   ]
  },
  {
   "cell_type": "code",
   "execution_count": 13,
   "metadata": {
    "scrolled": true
   },
   "outputs": [],
   "source": [
    "########################################################################\n",
    "#  Example Tutorial with Mean Squared Error loss function\n",
    "\n",
    "def basic_tutorial_model_MSELoss():\n",
    "    trainloader, testloader, classes = data_division(batch = 4)\n",
    "    \n",
    "    import examplenetwork\n",
    "    net = examplenetwork.Net()\n",
    "    criterion, optimizer = MSE_loss(net)\n",
    "    train_accuracy, loss_dic, test_accuracy = train_test_networkMSE(trainloader = trainloader, testloader = testloader, net=net, criterion=criterion, optimizer = optimizer, epochs = 25, onehotencoding = True)\n",
    "    plot(dictionary = train_accuracy, title = \"Two_conv_with_three_dense_MSELoss_Training_Accuracy\", x = \"Epochs\", y = \"Accuracy\", _print=  \"4. Two conv with three dense layers with MSELoss - training accuracy\")\n",
    "    plot(dictionary = loss_dic, title = \"Two_conv_with_three_dense_MSELoss_Loss\", x = \"Epochs\", y = \"Loss\", _print=  \"4. Two conv with three dense layers with MSELoss - loss\")\n",
    "    plot(dictionary = test_accuracy, title = \"Two_conv_with_three_dense_MSELoss_Testing_Accuracy\", x = \"Epochs\", y = \"Accuracy\", _print=  \"4. Two conv with three dense layers with MSELoss - testing accuray\")\n",
    "    print('Parameters of the network: %d' % sum(p.numel() for p in net.parameters() if p.requires_grad))"
   ]
  },
  {
   "cell_type": "code",
   "execution_count": 14,
   "metadata": {},
   "outputs": [],
   "source": [
    "def onehot(y,batch_size,nb_digits):\n",
    "    y_onehot = torch.FloatTensor(batch_size, nb_digits).zero_()\n",
    "    y_onehot.scatter_(1, y, 1)\n",
    "    return y_onehot"
   ]
  },
  {
   "cell_type": "code",
   "execution_count": 33,
   "metadata": {
    "scrolled": true
   },
   "outputs": [],
   "source": [
    "def main():\n",
    "    \n",
    " #   single_fully_connected_model() #2\n",
    "    #multiple_fully_connected_model() #3\n",
    "    \n",
    "    basic_tutorial_model() #1, 4\n",
    "    '''basic_tutorial_model_batch_sizes() #5\n",
    "    basic_tutorial_model_learning_rates() #6\n",
    "    basic_tutorial_model_augmented_data() #7\n",
    "    basic_tutorial_model_MSELoss() #8'''"
   ]
  },
  {
   "cell_type": "code",
   "execution_count": 34,
   "metadata": {
    "scrolled": false
   },
   "outputs": [
    {
     "name": "stdout",
     "output_type": "stream",
     "text": [
      "tensor([0, 0, 0, 0])\n",
      "tensor([[0., 0., 0., 0., 0., 0., 0., 1., 0., 0.],\n",
      "        [0., 0., 0., 0., 0., 0., 1., 0., 0., 0.],\n",
      "        [0., 0., 1., 0., 0., 0., 0., 0., 0., 0.],\n",
      "        [0., 0., 0., 0., 1., 0., 0., 0., 0., 0.]])\n"
     ]
    },
    {
     "ename": "RuntimeError",
     "evalue": "The size of tensor a (4) must match the size of tensor b (10) at non-singleton dimension 1",
     "output_type": "error",
     "traceback": [
      "\u001b[0;31m---------------------------------------------------------------------------\u001b[0m",
      "\u001b[0;31mRuntimeError\u001b[0m                              Traceback (most recent call last)",
      "\u001b[0;32m<ipython-input-34-c7bc734e5e35>\u001b[0m in \u001b[0;36m<module>\u001b[0;34m()\u001b[0m\n\u001b[1;32m      1\u001b[0m \u001b[0;32mif\u001b[0m \u001b[0m__name__\u001b[0m \u001b[0;34m==\u001b[0m \u001b[0;34m'__main__'\u001b[0m\u001b[0;34m:\u001b[0m\u001b[0;34m\u001b[0m\u001b[0m\n\u001b[0;32m----> 2\u001b[0;31m     \u001b[0mmain\u001b[0m\u001b[0;34m(\u001b[0m\u001b[0;34m)\u001b[0m\u001b[0;34m\u001b[0m\u001b[0m\n\u001b[0m",
      "\u001b[0;32m<ipython-input-33-fe9fe85f0ac4>\u001b[0m in \u001b[0;36mmain\u001b[0;34m()\u001b[0m\n\u001b[1;32m      8\u001b[0m     \u001b[0mbasic_tutorial_model_learning_rates\u001b[0m\u001b[0;34m(\u001b[0m\u001b[0;34m)\u001b[0m \u001b[0;31m#6\u001b[0m\u001b[0;34m\u001b[0m\u001b[0m\n\u001b[1;32m      9\u001b[0m     \u001b[0mbasic_tutorial_model_augmented_data\u001b[0m\u001b[0;34m(\u001b[0m\u001b[0;34m)\u001b[0m \u001b[0;31m#7'''\u001b[0m\u001b[0;34m\u001b[0m\u001b[0m\n\u001b[0;32m---> 10\u001b[0;31m     \u001b[0mbasic_tutorial_model_MSELoss\u001b[0m\u001b[0;34m(\u001b[0m\u001b[0;34m)\u001b[0m \u001b[0;31m#8\u001b[0m\u001b[0;34m\u001b[0m\u001b[0m\n\u001b[0m",
      "\u001b[0;32m<ipython-input-13-36db629031cd>\u001b[0m in \u001b[0;36mbasic_tutorial_model_MSELoss\u001b[0;34m()\u001b[0m\n\u001b[1;32m      8\u001b[0m     \u001b[0mnet\u001b[0m \u001b[0;34m=\u001b[0m \u001b[0mexamplenetwork\u001b[0m\u001b[0;34m.\u001b[0m\u001b[0mNet\u001b[0m\u001b[0;34m(\u001b[0m\u001b[0;34m)\u001b[0m\u001b[0;34m\u001b[0m\u001b[0m\n\u001b[1;32m      9\u001b[0m     \u001b[0mcriterion\u001b[0m\u001b[0;34m,\u001b[0m \u001b[0moptimizer\u001b[0m \u001b[0;34m=\u001b[0m \u001b[0mMSE_loss\u001b[0m\u001b[0;34m(\u001b[0m\u001b[0mnet\u001b[0m\u001b[0;34m)\u001b[0m\u001b[0;34m\u001b[0m\u001b[0m\n\u001b[0;32m---> 10\u001b[0;31m     \u001b[0mtrain_accuracy\u001b[0m\u001b[0;34m,\u001b[0m \u001b[0mloss_dic\u001b[0m\u001b[0;34m,\u001b[0m \u001b[0mtest_accuracy\u001b[0m \u001b[0;34m=\u001b[0m \u001b[0mtrain_test_networkMSE\u001b[0m\u001b[0;34m(\u001b[0m\u001b[0mtrainloader\u001b[0m \u001b[0;34m=\u001b[0m \u001b[0mtrainloader\u001b[0m\u001b[0;34m,\u001b[0m \u001b[0mtestloader\u001b[0m \u001b[0;34m=\u001b[0m \u001b[0mtestloader\u001b[0m\u001b[0;34m,\u001b[0m \u001b[0mnet\u001b[0m\u001b[0;34m=\u001b[0m\u001b[0mnet\u001b[0m\u001b[0;34m,\u001b[0m \u001b[0mcriterion\u001b[0m\u001b[0;34m=\u001b[0m\u001b[0mcriterion\u001b[0m\u001b[0;34m,\u001b[0m \u001b[0moptimizer\u001b[0m \u001b[0;34m=\u001b[0m \u001b[0moptimizer\u001b[0m\u001b[0;34m,\u001b[0m \u001b[0mepochs\u001b[0m \u001b[0;34m=\u001b[0m \u001b[0;36m25\u001b[0m\u001b[0;34m,\u001b[0m \u001b[0monehotencoding\u001b[0m \u001b[0;34m=\u001b[0m \u001b[0;32mTrue\u001b[0m\u001b[0;34m)\u001b[0m\u001b[0;34m\u001b[0m\u001b[0m\n\u001b[0m\u001b[1;32m     11\u001b[0m     \u001b[0mplot\u001b[0m\u001b[0;34m(\u001b[0m\u001b[0mdictionary\u001b[0m \u001b[0;34m=\u001b[0m \u001b[0mtrain_accuracy\u001b[0m\u001b[0;34m,\u001b[0m \u001b[0mtitle\u001b[0m \u001b[0;34m=\u001b[0m \u001b[0;34m\"Two_conv_with_three_dense_MSELoss_Training_Accuracy\"\u001b[0m\u001b[0;34m,\u001b[0m \u001b[0mx\u001b[0m \u001b[0;34m=\u001b[0m \u001b[0;34m\"Epochs\"\u001b[0m\u001b[0;34m,\u001b[0m \u001b[0my\u001b[0m \u001b[0;34m=\u001b[0m \u001b[0;34m\"Accuracy\"\u001b[0m\u001b[0;34m,\u001b[0m \u001b[0m_print\u001b[0m\u001b[0;34m=\u001b[0m  \u001b[0;34m\"4. Two conv with three dense layers with MSELoss - training accuracy\"\u001b[0m\u001b[0;34m)\u001b[0m\u001b[0;34m\u001b[0m\u001b[0m\n\u001b[1;32m     12\u001b[0m     \u001b[0mplot\u001b[0m\u001b[0;34m(\u001b[0m\u001b[0mdictionary\u001b[0m \u001b[0;34m=\u001b[0m \u001b[0mloss_dic\u001b[0m\u001b[0;34m,\u001b[0m \u001b[0mtitle\u001b[0m \u001b[0;34m=\u001b[0m \u001b[0;34m\"Two_conv_with_three_dense_MSELoss_Loss\"\u001b[0m\u001b[0;34m,\u001b[0m \u001b[0mx\u001b[0m \u001b[0;34m=\u001b[0m \u001b[0;34m\"Epochs\"\u001b[0m\u001b[0;34m,\u001b[0m \u001b[0my\u001b[0m \u001b[0;34m=\u001b[0m \u001b[0;34m\"Loss\"\u001b[0m\u001b[0;34m,\u001b[0m \u001b[0m_print\u001b[0m\u001b[0;34m=\u001b[0m  \u001b[0;34m\"4. Two conv with three dense layers with MSELoss - loss\"\u001b[0m\u001b[0;34m)\u001b[0m\u001b[0;34m\u001b[0m\u001b[0m\n",
      "\u001b[0;32m<ipython-input-25-7730a90df84a>\u001b[0m in \u001b[0;36mtrain_test_networkMSE\u001b[0;34m(trainloader, testloader, net, criterion, optimizer, epochs, onehotencoding)\u001b[0m\n\u001b[1;32m     34\u001b[0m             \u001b[0mprint\u001b[0m\u001b[0;34m(\u001b[0m\u001b[0mpredicted\u001b[0m\u001b[0;34m)\u001b[0m\u001b[0;34m\u001b[0m\u001b[0m\n\u001b[1;32m     35\u001b[0m             \u001b[0mprint\u001b[0m\u001b[0;34m(\u001b[0m\u001b[0mlabels\u001b[0m\u001b[0;34m)\u001b[0m\u001b[0;34m\u001b[0m\u001b[0m\n\u001b[0;32m---> 36\u001b[0;31m             \u001b[0mtrain_correct\u001b[0m \u001b[0;34m+=\u001b[0m \u001b[0;34m(\u001b[0m\u001b[0mpredicted\u001b[0m \u001b[0;34m==\u001b[0m \u001b[0mlabels\u001b[0m\u001b[0;34m)\u001b[0m\u001b[0;34m.\u001b[0m\u001b[0msum\u001b[0m\u001b[0;34m(\u001b[0m\u001b[0;34m)\u001b[0m\u001b[0;34m.\u001b[0m\u001b[0mitem\u001b[0m\u001b[0;34m(\u001b[0m\u001b[0;34m)\u001b[0m\u001b[0;34m\u001b[0m\u001b[0m\n\u001b[0m\u001b[1;32m     37\u001b[0m             \u001b[0maccuracy\u001b[0m \u001b[0;34m=\u001b[0m \u001b[0;34m(\u001b[0m\u001b[0;36m100\u001b[0m \u001b[0;34m*\u001b[0m \u001b[0mtrain_correct\u001b[0m \u001b[0;34m/\u001b[0m \u001b[0mtrain_total\u001b[0m\u001b[0;34m)\u001b[0m\u001b[0;34m\u001b[0m\u001b[0m\n\u001b[1;32m     38\u001b[0m             \u001b[0mloss\u001b[0m \u001b[0;34m=\u001b[0m \u001b[0mcriterion\u001b[0m\u001b[0;34m(\u001b[0m\u001b[0moutputs\u001b[0m\u001b[0;34m,\u001b[0m \u001b[0mlabels\u001b[0m\u001b[0;34m)\u001b[0m\u001b[0;34m\u001b[0m\u001b[0m\n",
      "\u001b[0;31mRuntimeError\u001b[0m: The size of tensor a (4) must match the size of tensor b (10) at non-singleton dimension 1"
     ]
    }
   ],
   "source": [
    "if __name__ == '__main__':\n",
    "    main()"
   ]
  },
  {
   "cell_type": "code",
   "execution_count": 3,
   "metadata": {
    "scrolled": true
   },
   "outputs": [],
   "source": [
    "########################################################################\n",
    "# Testing the network\n",
    "\n",
    "def test_network(testloader, net):\n",
    "    test_accuracy = collections.defaultdict(int)\n",
    "    correct = 0\n",
    "    total = 0\n",
    "    with torch.no_grad(): #no gradient descent\n",
    "        for data in testloader:\n",
    "            images, labels = data\n",
    "            outputs = net(images)\n",
    "            _, predicted = torch.max(outputs.data, 1)\n",
    "            total += labels.size(0)\n",
    "            correct += (predicted == labels).sum().item()\n",
    "\n",
    "    print('Accuracy of the network on the 10000 test images: %d%%' % (\n",
    "        100 * correct / total))\n",
    "    test_accuracy[1] = (100 * correct / total)\n",
    "    return test_accuracy"
   ]
  },
  {
   "cell_type": "code",
   "execution_count": null,
   "metadata": {
    "scrolled": true
   },
   "outputs": [],
   "source": []
  }
 ],
 "metadata": {
  "kernelspec": {
   "display_name": "Python 3",
   "language": "python",
   "name": "python3"
  },
  "language_info": {
   "codemirror_mode": {
    "name": "ipython",
    "version": 3
   },
   "file_extension": ".py",
   "mimetype": "text/x-python",
   "name": "python",
   "nbconvert_exporter": "python",
   "pygments_lexer": "ipython3",
   "version": "3.7.0"
  }
 },
 "nbformat": 4,
 "nbformat_minor": 2
}
